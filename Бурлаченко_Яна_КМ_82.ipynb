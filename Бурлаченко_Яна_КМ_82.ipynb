{
  "nbformat": 4,
  "nbformat_minor": 0,
  "metadata": {
    "colab": {
      "name": "Бурлаченко_Яна_КМ-82.ipynb",
      "provenance": [],
      "collapsed_sections": [
        "c29nxEWO51Gv",
        "Snpz40_C0eJ1",
        "Y4K5WyIV3e8g",
        "OhZjWywD3fMR",
        "9UynmiTT3fZC"
      ]
    },
    "kernelspec": {
      "name": "python3",
      "display_name": "Python 3"
    },
    "language_info": {
      "name": "python"
    }
  },
  "cells": [
    {
      "cell_type": "markdown",
      "metadata": {
        "id": "G8VbbuLC4DVC"
      },
      "source": [
        "<left>\n",
        "    <img src=\"https://kpi.ua/files/images/kpi.png\" width=\"300\" alt=\"kpi logo\"  />\n",
        "</left>\n",
        "\n",
        "\n"
      ]
    },
    {
      "cell_type": "markdown",
      "metadata": {
        "id": "c29nxEWO51Gv"
      },
      "source": [
        "# Курсова робота із методів оптимізації на тему:\n",
        "##**Метод найшвидшого спуску**\n",
        "Виконала: студентка групи КМ-82, Бурлаченко Яна Борисівна\n",
        "\n",
        "#####Керівник: доктор фізико-математичних наук Норкін Богдан Володимирович\n"
      ]
    },
    {
      "cell_type": "markdown",
      "metadata": {
        "id": "Snpz40_C0eJ1"
      },
      "source": [
        "#Зміст\n",
        "\n",
        "\n",
        "* Анотація\n",
        "* Вступ\n",
        "* Постановка задачі\n",
        "* Матеріали та методи\n",
        "* Розв'язання задачі\n",
        " *  Імпорт необхідних бібліотек\n",
        " *  Визначення констант\n",
        " *  Визначення функцій\n",
        " *  Обчислення\n",
        " *  Виведення результатів\n",
        "* Висновки\n",
        "* Автори\n",
        "* Список використаних джерел\n",
        "\n",
        "\n",
        "\n",
        "\n",
        "\n",
        "\n",
        "\n",
        "\n",
        "\n"
      ]
    },
    {
      "cell_type": "markdown",
      "metadata": {
        "id": "Y4K5WyIV3e8g"
      },
      "source": [
        "# Анотація"
      ]
    },
    {
      "cell_type": "markdown",
      "metadata": {
        "id": "GVN7-6_SWNxL"
      },
      "source": [
        "У даній курсовій роботі розглядається метод найшвидшого спуску та дослідження методу при мінімізації кореневої функції в залежності від різних факторів, які більш детально указані в постановці задачі. Також виконано метод штрафних функцій (метод зовнішньої точки) для умовної оптимізації при розташування локального мінімума поза випуклої допустимої області."
      ]
    },
    {
      "cell_type": "markdown",
      "metadata": {
        "id": "OhZjWywD3fMR"
      },
      "source": [
        "# Вступ"
      ]
    },
    {
      "cell_type": "markdown",
      "metadata": {
        "id": "IpTJ8EFZluEZ"
      },
      "source": [
        "Методи оптимізації є надзвичайно важливими у реаліях сучасного життя, коли обмеженість часу та інших ресурсів відчувається гостріше, ніж будь-коли. Якщо користувачу інтернет-магазину доведеться чекати не частку, а всю секунду при клікові на товар, який додається до корзини, скоріше всього, він буде шукати інший, магазин, ніж дозволить собі кожен раз чекати. Якщо виробництво неграмотно буде використовувати ресурси, існує пряма загроза прибутку, а отже, бізнесу в цілому.\n",
        "На щастя, майже будь-який процес можна виразити та опрацювати математично, а отже оптимізувати.\n",
        "Сам же метод найшвидшого спуску, зі своїми модифікаціями, застосовується для навчання математичних та комп'ютерних моделей. Також він використовується в теорії штучних нейронних мереж.\n",
        "Саме тому, щоб належно застосовувати методи, є важливим не просто використовувати готові програми, але й самому розбиратися в алгоритмі та програмній реалізації."
      ]
    },
    {
      "cell_type": "markdown",
      "metadata": {
        "id": "9UynmiTT3fZC"
      },
      "source": [
        "# Постановка задачі"
      ]
    },
    {
      "cell_type": "markdown",
      "metadata": {
        "id": "H8ABCDV2YbYO"
      },
      "source": [
        "1. Дослідити збіжність методу найшвидшого спуску при мінімізації кореневої функції  в залежності від:\n",
        " * Величини кроку h при обчисленні похідних.\n",
        " * Схеми обчислення похідних.\n",
        " * Способу обчислення кроку : постійний, оптимальний.\n",
        " * Виду методу одновимірного пошуку (ДСК-Пауелла або Золотого перетину).\n",
        " * Точності методу одновимірного пошуку.\n",
        " * Значення параметру в алгоритмі Свена.\n",
        " * Вигляду критерію закінчення.\n",
        " * Наявності модифікацій (методи Бута, Люстерніка, важкої кульки).\n",
        "2. Використати метод штрафних функцій (метод зовнішньої точки) для умовної оптимізації при розташування локального мінімума поза випуклої допустимої області.\n"
      ]
    },
    {
      "cell_type": "markdown",
      "metadata": {
        "id": "vCIgyVDL3qTN"
      },
      "source": [
        "# Матеріали та методи"
      ]
    },
    {
      "cell_type": "markdown",
      "metadata": {
        "id": "TTscX6gXhZ-4"
      },
      "source": [
        "Як уже було вказано раніше, у даній роботі використовується метод найшвидшого спуску. Розглянемо його алгоритм:\n",
        "\n",
        "1. Задаються координати початкової точки *x[0]*.\n",
        "2. У точці *x[k]*, *k = 0, 1, 2, ...* обчислюється значення градієнта *f'(x[k])*.\n",
        "3. Визначається довжина кроку $h_k$.\n",
        "4. Визначаються координати точки *x[k+1]*.\n",
        "5. Перевіряється умова зупинки ітераційного процесу. Якщо виконується - отримана точка і буде результуючою. У протилежному випадку починається знову виконання пунктів 1-5.\n",
        "\n",
        "У другому завданні:\n",
        "Задаємо випуклу область у вигляді обмеження *g(x)*. Представляємо у вигляді нерівності $g(x) >= 0$s\n",
        "Штрафна функція має вигляд:"
      ]
    },
    {
      "cell_type": "markdown",
      "metadata": {
        "id": "3_z-bUua1K-o"
      },
      "source": [
        "![image.png](data:image/png;base64,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)"
      ]
    },
    {
      "cell_type": "markdown",
      "metadata": {
        "id": "t2wot-s624A6"
      },
      "source": [
        "R = 1\n",
        "Тепер застосовуємо метод із новою штрафною ф-цією. Отримується перший мінімум. Збільшуємо штраф, повторюємо, отримуємо другий мінімум. Якщо різниця другого та першого менша за необхідну точність, то закінчуємо ітераційний процес. Якщо ні - знову збільшуємо штраф, знаходимо третій мінімум і тд."
      ]
    },
    {
      "cell_type": "markdown",
      "metadata": {
        "id": "aY9GxT3-zyok"
      },
      "source": [
        "Критерії для першого завдання:"
      ]
    },
    {
      "cell_type": "markdown",
      "metadata": {
        "id": "XiqJ8y5Az1tM"
      },
      "source": [
        "![image.png](data:image/png;base64,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)"
      ]
    },
    {
      "cell_type": "markdown",
      "metadata": {
        "id": "1HoFsiMAz61R"
      },
      "source": [
        "![image.png](data:image/png;base64,iVBORw0KGgoAAAANSUhEUgAAAKYAAAA4CAYAAAB35INEAAAGXUlEQVR4Ae2ajU0kMQyFtwVqoAV6oARqoAU6oAM6oAIqoAEaoAN6mNOH9E5hzkk8y2aTk16k0exm8mM/f7FnuTttblZgQQVOC9pkk6zAZjANwZIKGMwlw2KjDKYZWFIBg7lkWGyUwTQDSypgMJcMi40ymGZgSQUM5pJhsVEG0wwsqYDBXDIsNspgmoElFTCYZ4Tl9fV1+/r6Ss98f3/fPj8/0+M9cPO/lR+B4OPjY7u7u9uen5//gglwfOcCwKgx7/7+fnt6eooeuy9QwBkzECXqAq7b29uNe9mA8eHhYTudTtvb21v56J/Pj4+PG5dbXwGD2dfoe4QyZTSc0g6YmfIO3Ix3aytgMNv6fD8lE7bAIwsCnJpKe1ny9ezl5eXHWPX7/lOBLpiUKoKCyFHjGe9Poxv7k7XYj6sEIdqb7CUI9uU3Gt/qA7yWj9hSlmjGYuPNzc0/P3qwhWelTdjJnGwm1fqRzb14RXNW7BsCJkILoMydALYaQDJGPy54p+OqNYIOLARQc2pjM/2tMs6PH3wUVOzNeECtlXbGo1HZmC+ba/M03mBu23dgEfJIxlSwMlAypvVrlX0Zo8ArOLU7YABxmcFqY7P9Lf9V5tmPwwKUZTaM9qitB5DM52rBORtMfMbXSxz6SB/6hmRMFkZcAtD6paqy0/obH1mEdVqBKp1TYMu+336ugcS6HCo950C0Mrns0Hh9L+9owTqtwzoDTA4bNsnHVlxLf879PAxMlfNW5uIZIteasiWwZZrGX1q0FkjYJh/wh7G9Q9RaDz8Fey0jXQtM/CCOOux87vmWiVNmzDAwVc45YVHT86hEK5MSwP21fzcr1ya7crUa8GIT6+73FhD7bEVg9n3sQZBKyDgQ5bq1SsCYlh/SpnaoR4OJH2R+tMTvmh8tnaNnZF3Wlf7ogC+RFsPAxDACyuZRBhMgkQPqEyjRfI3RHafZqxZMxgGiTj2il4dG2S6yl2fKitqPu0AsMxvr4jdzIltkJ/dW29tXjh0BJvagN5pgd0bz0qbeZ/mNNgJdCSjSdiiYQFCDBeGBs9UUADnSGqsyHp2+aJ6gRzDmEJAaLAJwX8YQln3Lftagr4S13J+98L3XyCxoF60jXaI1FOyetuVcDix7sW5G63Ju9jOws8deY/yMbB0KJk5iTJmZcESB7okQza0JIcejQEZzZAOitKDUXE56JKCeZ+4ADJT7V4hoLnvhfzT20mCyP8CMzJiKT3mII7/VNxRMNonKOaeEq9UQisD0xmkNBSsLpg5NLfhaV3fsAar9idfzzJ3gcGWawIwOg3yN1jknY+7X4dCiO/4Cay+B7OdH39GNBID/GTiHg7kv5wIC51tN86LARPMUrCyYrAGUHJxsQ1xlzoy4Wpd52EeQs20mmLIRH4kDPnPx+YjfWoc788j+wInuXGhSa8PBFIgq5wieecdS6s+CdhRM1pdINXFq/Qh8JED4cDTrrABm6T+HS6WebNpLLOVcxqI1cGfnDQcTAzGIE4JRQJnJgoxjThaAIyArCyj4WfhLsUd/lm3Xesc84g9xBM6MbsQPKIlnNpbYchUwVZYFWy974ABQMj7bFEj2ajWVEzIAwrJP5qC01hzxjMBjWxR8VYdo39V8kj2tsh35cRUwVc4RmszWa5xIxhKcbAO01vqUIZ5zlVlIp5l9sC1barJ2nTuOQ4ltUfufwFTGxJfykOnVoMbDVcBEXJXz0rhIdPqU/Y5mMoJZy7LsjzgllOylbM6zo/vV7P9tvw5yLWiXBlN66+Bm75lYogUQqgKwNlrjA9rXyvvVwDwSLAmfdVxrS+BVsp7sOnpXdq/5L32idZlD8Fc5ZJGNmb4lwdSpyjiwH9PKmvuxK37vZUtsNphn/n/M3wRc75e1MtZbm7JBqTh3fm/9kc8pa7xycNVKHPsbzCuDqcAAViswPTiAk8xJAHt/Aeitda3nlGDZ3PPdYF4RTL1X8ZJ8CZgILi/XBBtQV27YCWz7H2Y1mw1mTRn3W4HBCnR//Aze38tbgVABgxnK4s7ZChjM2RHw/qECBjOUxZ2zFTCYsyPg/UMFDGYoiztnK2AwZ0fA+4cKGMxQFnfOVsBgzo6A9w8VMJihLO6crYDBnB0B7x8qYDBDWdw5WwGDOTsC3j9UwGCGsrhztgIGc3YEvH+ogMEMZXHnbAX+AOManNBZtxe2AAAAAElFTkSuQmCC)"
      ]
    },
    {
      "cell_type": "markdown",
      "metadata": {
        "id": "LB13pBKn3qWV"
      },
      "source": [
        "# Розв'язання задачі"
      ]
    },
    {
      "cell_type": "markdown",
      "metadata": {
        "id": "u7uoyjD-3qba"
      },
      "source": [
        "#### Імпорт необхідних бібліотек"
      ]
    },
    {
      "cell_type": "code",
      "metadata": {
        "id": "QM32SPeaduD4"
      },
      "source": [
        "import math\n",
        "import numpy as np\n",
        "import matplotlib.pylab as plt\n",
        "from sympy import *"
      ],
      "execution_count": 1,
      "outputs": []
    },
    {
      "cell_type": "markdown",
      "metadata": {
        "id": "nkKIxwtr3qfl"
      },
      "source": [
        "#### Визначення констант"
      ]
    },
    {
      "cell_type": "markdown",
      "metadata": {
        "id": "o5UsaXkC02pn"
      },
      "source": [
        "Константа-лічильник ітераційних процесів, стандартний крок та штраф(для 2го завдання):"
      ]
    },
    {
      "cell_type": "code",
      "metadata": {
        "id": "7rxNpSGseJs7"
      },
      "source": [
        "count = 0\n",
        "H = 0.000000000001 #--------------STEP---------------\n",
        "R_func = 1"
      ],
      "execution_count": 2,
      "outputs": []
    },
    {
      "cell_type": "markdown",
      "metadata": {
        "id": "_m0VrlQ44Kn4"
      },
      "source": [
        "#### Визначення функцій"
      ]
    },
    {
      "cell_type": "markdown",
      "metadata": {
        "id": "YwpR6dVk2cqa"
      },
      "source": [
        "Функції для підрахунку ітерацій:"
      ]
    },
    {
      "cell_type": "code",
      "metadata": {
        "id": "2iGk3Yao2m8-"
      },
      "source": [
        "def incCount():\n",
        "    global count\n",
        "    count = count+1\n",
        "\n",
        "def zeroCount():\n",
        "    global count\n",
        "    count = 0"
      ],
      "execution_count": 3,
      "outputs": []
    },
    {
      "cell_type": "markdown",
      "metadata": {
        "id": "aeNPXiMX36pw"
      },
      "source": [
        "Задання цільової функції:"
      ]
    },
    {
      "cell_type": "code",
      "metadata": {
        "id": "6PsvlRtH3-_s"
      },
      "source": [
        "def fun(x):\n",
        "    incCount()\n",
        "    return (10*(x[0] - x[1])**2 + (x[0] - 1)**2)**(1/4)\n",
        "    # return (10*(x[0] - x[1])**2 + (x[0] - 1)**2)**(1/4) + R_func*(cut(circle_region(x))**2) #---------TASK-2----"
      ],
      "execution_count": 4,
      "outputs": []
    },
    {
      "cell_type": "markdown",
      "metadata": {
        "id": "w0a1OxgATuyj"
      },
      "source": [
        "Визначення області (для 2го завдання)"
      ]
    },
    {
      "cell_type": "code",
      "metadata": {
        "id": "27cwpWXETzPj"
      },
      "source": [
        "def circle_region(x):\n",
        "    return  1- (x[0]+1)**2 + (x[1])**2"
      ],
      "execution_count": 5,
      "outputs": []
    },
    {
      "cell_type": "markdown",
      "metadata": {
        "id": "zccsOdzx2rZa"
      },
      "source": [
        "Функції базових математичних операцій над векторами:"
      ]
    },
    {
      "cell_type": "code",
      "metadata": {
        "id": "blD_3gfq2yPf"
      },
      "source": [
        "def sub(x, y): #різниця\n",
        "    res = []\n",
        "    for i in range(len(x)):\n",
        "        res.append(x[i] - y[i])\n",
        "    return res\n",
        "\n",
        "def sums(x, y): #сума add\n",
        "    res = []\n",
        "    for i in range(len(x)):\n",
        "        res.append(x[i] + y[i])\n",
        "    return res        \n",
        "\n",
        "def mults(x, n): #добуток\n",
        "    res = []\n",
        "    for i in range(len(x)):\n",
        "        res.append(x[i]*n)\n",
        "    return res"
      ],
      "execution_count": 6,
      "outputs": []
    },
    {
      "cell_type": "markdown",
      "metadata": {
        "id": "Ey2_vzfc4t2G"
      },
      "source": [
        "Функції для обчислення наступної точки:"
      ]
    },
    {
      "cell_type": "code",
      "metadata": {
        "id": "NrUqDwdA40UJ"
      },
      "source": [
        "def calcX(x0, grad, lmb): #звичайна формула\n",
        "    '''\n",
        "        x0 - gradient*lambda\n",
        "    '''\n",
        "    return sub(x0, mults(grad, lmb))\n",
        "\n",
        "def heavy_ball(x0, x1, grad, lmb): #метод важкої кульки\n",
        "    return sums(sub(x1, mults(grad, lmb)), mults(0.8/0.99, sub(x0, x1)))"
      ],
      "execution_count": 7,
      "outputs": []
    },
    {
      "cell_type": "markdown",
      "metadata": {
        "id": "CKykt-Dx5BDy"
      },
      "source": [
        "Обчислення похідних за трьома схемами:"
      ]
    },
    {
      "cell_type": "code",
      "metadata": {
        "id": "9bXmWzB25SL5"
      },
      "source": [
        "def derivative_central(x, n): #центральна різницева схема\n",
        "    h = []\n",
        "    for i in range(len(x)):\n",
        "        if i == n:\n",
        "            h.append(H)\n",
        "        else:\n",
        "            h.append(0)\n",
        "    # h = 0.000000000001\n",
        "    return (fun([x[0] + h[0], x[1] + h[1]]) - fun([x[0] - h[0], x[1] - h[1]]))/(2*h[n])\n",
        "\n",
        "def derivative_right(x, n): #права різницева схема\n",
        "    h = []\n",
        "    for i in range(len(x)):\n",
        "        if i == n:\n",
        "            h.append(H)\n",
        "        else:\n",
        "            h.append(0)\n",
        "    return (fun([x[0] + h[0], x[1] + h[1]]) - fun([x[0], x[1]]))/(h[n])\n",
        "\n",
        "def derivative_left(x, n): #ліва різницева схема\n",
        "    h = []\n",
        "    for i in range(len(x)):\n",
        "        if i == n:\n",
        "            h.append(H)\n",
        "        else:\n",
        "            h.append(0)\n",
        "    return (fun([x[0], x[1]]) - fun([x[0] - h[0], x[1] - h[1]]))/(h[n])"
      ],
      "execution_count": 8,
      "outputs": []
    },
    {
      "cell_type": "markdown",
      "metadata": {
        "id": "4s9Ulo0O5Ypf"
      },
      "source": [
        "Алгоритм Свена:"
      ]
    },
    {
      "cell_type": "code",
      "metadata": {
        "id": "d3577_Nm5eKg"
      },
      "source": [
        "def svenn(x0, grad, lmb, delta):\n",
        "    \"\"\"\n",
        "        One-dimensional Svenn search\n",
        "    \"\"\"\n",
        "    #print \"Svenn stage...\"\n",
        "    f0 = fun(calcX(x0, grad, lmb))\n",
        "    if f0 < fun(calcX(x0, grad, lmb+delta)):\n",
        "        delta = -delta\n",
        "    x1 = lmb + delta\n",
        "    f1 = fun(calcX(x0, grad, x1))\n",
        "    while f1 < f0:\n",
        "        delta *= 2\n",
        "        lmb = x1\n",
        "        x1 = lmb + delta\n",
        "        f0 = f1\n",
        "        f1 = fun(calcX(x0, grad, x1))\n",
        "    a = lmb + delta/2\n",
        "    b = lmb - delta/2        \n",
        "    if f0 < f1:\n",
        "        if a < b:\n",
        "            return [a, b]\n",
        "        else:\n",
        "            return [b, a]\n",
        "    elif f1 < f0:\n",
        "        if lmb < x1:\n",
        "            return [lmb, x1]\n",
        "        else:\n",
        "            return [x1, lmb]\n",
        "    else:\n",
        "        if lmb < b:\n",
        "            return [lmb, b]\n",
        "        else:\n",
        "            return [b, lmb]"
      ],
      "execution_count": 9,
      "outputs": []
    },
    {
      "cell_type": "markdown",
      "metadata": {
        "id": "oQ5UDsK45jUS"
      },
      "source": [
        "Метод золотого перетину:"
      ]
    },
    {
      "cell_type": "code",
      "metadata": {
        "id": "EcqXFiDd5m8w"
      },
      "source": [
        "def gold(x0, grad, eps, lmb, delta):\n",
        "    line = svenn(x0, grad, lmb, delta)\n",
        "    a = line[0]\n",
        "    b = line[1]\n",
        "    \"\"\"\n",
        "        One-dimensional gold search\n",
        "    \"\"\"\n",
        "    l = b - a\n",
        "    x1 = a + 0.382*l\n",
        "    x2 = a + 0.618*l\n",
        "    while l > eps:\n",
        "        if fun(calcX(x0, grad, x1)) < fun(calcX(x0, grad, x2)):\n",
        "            b = x2\n",
        "            x2 = x1\n",
        "            l = b - a\n",
        "            x1 = a + 0.382*l\n",
        "        else:\n",
        "            a = x1\n",
        "            x1 = x2\n",
        "            l = b - a\n",
        "            x2 = a + 0.618*l\n",
        "    # print(\"gold a: \" + str(a))\n",
        "    # print(\"gold b: \" + str(b))\n",
        "    # return [a, b] \n",
        "    return (a+b)/2"
      ],
      "execution_count": 10,
      "outputs": []
    },
    {
      "cell_type": "markdown",
      "metadata": {
        "id": "FL4vYAkL5p-r"
      },
      "source": [
        "Методи ДСК та ДСК-Пауелла"
      ]
    },
    {
      "cell_type": "code",
      "metadata": {
        "id": "fNO0d1BQ5uMR"
      },
      "source": [
        "def dsc(x0, grad, lmb, delta):\n",
        "    svenn_res = svenn(x0, grad, lmb, delta)\n",
        "    x1 = svenn_res[0]\n",
        "    x3 = svenn_res[1]\n",
        "    x2 = (x1 + x3)/2\n",
        "    f1 = fun(calcX(x0, grad, x1))\n",
        "    f2 = fun(calcX(x0, grad, x2))\n",
        "    f3 = fun(calcX(x0, grad, x3))\n",
        "    xApprox = x2 + ((x3 - x2) * (f1 - f3)) / (2 * (f1 - 2 * f2 + f3))\n",
        "    return [x1, x2, x3, xApprox]\n",
        "\n",
        "\n",
        "def dscPowell(x0, grad, eps, lmb, delta):\n",
        "    dsc_res = dsc(x0, grad, lmb, delta)\n",
        "    a = dsc_res[0]\n",
        "    xmin = dsc_res[1]\n",
        "    b = dsc_res[2]\n",
        "    xApprox = dsc_res[3]\n",
        "\n",
        "    while abs(xmin-xApprox) >= eps or abs(fun(calcX(x0, grad, xmin)) - fun(calcX(x0, grad, xApprox))) >= eps:\n",
        "        if xApprox < xmin:\n",
        "            b = xmin\n",
        "        else:\n",
        "            a = xmin\n",
        "        xmin = xApprox\n",
        "        funcRes =  [fun(calcX(x0, grad, a)), fun(calcX(x0, grad, xmin)), fun(calcX(x0, grad, b))]\n",
        "        a1 = (funcRes[1] - funcRes[0]) / (xmin - a)\n",
        "        a2 = ((funcRes[2] - funcRes[0]) / (b - a) - a1) / (b - xmin)\n",
        "        xApprox = (a + xmin) / 2 - a1 / (2 * a2)\n",
        "    return xmin"
      ],
      "execution_count": 11,
      "outputs": []
    },
    {
      "cell_type": "markdown",
      "metadata": {
        "id": "GfIAvR-s6I_d"
      },
      "source": [
        "Обчислення градієнту, норми та $\\lambda$:"
      ]
    },
    {
      "cell_type": "code",
      "metadata": {
        "id": "RK3JVujX6mQo"
      },
      "source": [
        "def gradient(x):\n",
        "    grad = []\n",
        "    for i in range(len(x)):\n",
        "        grad.append(derivative_central(x, i)) #----------DERIVATIVE-------------\n",
        "    return grad \n",
        "    \n",
        "def norm(s1):\n",
        "    normas = 0\n",
        "    for i in range(len(s1)):\n",
        "        normas += s1[i]**2\n",
        "    return math.sqrt(normas)\n",
        "\n",
        "def calcLambda(x0, grad, eps, lmb, delta):\n",
        "    '''\n",
        "    # line = svenn(x0, grad, lmb, 0.1)\n",
        "    # line = gold(line[0], line[1], eps, x0, grad) \n",
        "    # lmb = (line[0] + line[1])/2\n",
        "    # return lmb \n",
        "    '''\n",
        "    # lmb = gold(x0, grad, eps, lmb, delta) #---------------GOLD----------\n",
        "    lmb = dscPowell(x0, grad, eps, lmb, delta) #----------DSC-POWELL------\n",
        "    if abs(lmb) > 5:\n",
        "        return 5\n",
        "    else: return lmb"
      ],
      "execution_count": 12,
      "outputs": []
    },
    {
      "cell_type": "markdown",
      "metadata": {
        "id": "U9867El46uJQ"
      },
      "source": [
        "Побудова графіку:"
      ]
    },
    {
      "cell_type": "code",
      "metadata": {
        "id": "97Q0PlEi6y22"
      },
      "source": [
        "def plot(points, col):\n",
        "    n = 256\n",
        "    x = np.linspace(-5, 5, n)\n",
        "    y = np.linspace(-5, 5, n)\n",
        "    X, Y = np.meshgrid(x, y)\n",
        "    \n",
        "    xs = []\n",
        "    ys = []\n",
        "    \n",
        "    plt.contourf(X, Y, fun([X, Y]), 8, alpha=.75, cmap='jet')\n",
        "    C = plt.contour(X, Y, fun([X, Y]), 8, colors='black') \n",
        "    \n",
        "    for i in range(len(points)):\n",
        "        xs.append(points[i][0])\n",
        "        ys.append(points[i][1])\n",
        "    \n",
        "    plt.plot(xs, ys, marker='o', linestyle='--', color=str(col), label='Square')"
      ],
      "execution_count": 13,
      "outputs": []
    },
    {
      "cell_type": "markdown",
      "metadata": {
        "id": "9wlK-4_vT8aj"
      },
      "source": [
        "Модифікація: метод важкої кульки"
      ]
    },
    {
      "cell_type": "code",
      "metadata": {
        "id": "bTs1zruwUAFk"
      },
      "source": [
        "def heavy_ball(xk, x_1, grad, lmb):\n",
        "    return sums(sub(xk, mults(grad, lmb)), mults(sub(xk, x_1), 0.8/0.99))"
      ],
      "execution_count": 14,
      "outputs": []
    },
    {
      "cell_type": "markdown",
      "metadata": {
        "id": "0TBr4-v866wb"
      },
      "source": [
        "Власне, сам метод найшвидшого спуску:"
      ]
    },
    {
      "cell_type": "code",
      "metadata": {
        "id": "d3FrgkcXeO5V"
      },
      "source": [
        "def fastestDescent(x0, eps1, eps2, delta, HEAVY_BOLL): #eps1 - епсілон для критерію закінчення, eps2 - точність методу одновимірного пошуку\n",
        "    iterations = 0\n",
        "    zeroCount()\n",
        "    \"\"\"\n",
        "        Gradient descent with lambda. calculated with one-dimensional search\n",
        "    \"\"\"\n",
        "    print(\"fastest descent goes!\")\n",
        "    xs = []\n",
        "    xs.append(x0)\n",
        "    x0 = mults(x0, -1)\n",
        "    x1 = [-x0[0], -x0[1]]\n",
        "    lmb = 0.1\n",
        "    while norm(sub(x1, x0))/norm(x0) >= eps1: #--------UNCOMMENT TO OTHER CRITERION----------\n",
        "    # while (abs(fun(x1) - fun(x0)) >= eps1 or norm(sub(x1, x0))/norm(x0) >= eps1) or (sub(x1, x0) == 0): #--------COMMENT TO OTHER CRITERION----------\n",
        "        x0 = x1\n",
        "        grad = gradient(x0)\n",
        "        if norm(grad) < eps1: #--------UNCOMMENT TO OTHER CRITERION----------\n",
        "        # if (abs(fun(x1) - fun(x0)) <= eps1 and norm(sub(x1, x0))/norm(x0) <= eps1) and (sub(x1, x0) == 0): #--------COMMENT TO OTHER CRITERION----------\n",
        "            break\n",
        "        lmb = calcLambda(x0, grad, eps2, lmb, delta)  #--------COMMENT TO CONSTANT----------\n",
        "        if (len(xs) >= 3) and HEAVY_BOLL:\n",
        "            x1 = heavy_ball(xs[-1],xs[-2], grad, lmb)\n",
        "        else:\n",
        "            x1 = calcX(x0, grad, lmb)\n",
        "        print(x1)\n",
        "        xs.append(x1)\n",
        "        iterations += 1\n",
        "\n",
        "    print(\"end fastest descent with \", iterations, \" iterations\\nFunction Counts\",count)\n",
        "    plot(xs, 'y')\n",
        "    return x1"
      ],
      "execution_count": 15,
      "outputs": []
    },
    {
      "cell_type": "markdown",
      "metadata": {
        "id": "WtHReSBetXRe"
      },
      "source": [
        "Для штрафних функцій:"
      ]
    },
    {
      "cell_type": "code",
      "metadata": {
        "id": "EkGQX9jVtbqE"
      },
      "source": [
        "def cut(alpha):\n",
        "\tif alpha <= 0:\n",
        "\t\treturn alpha\n",
        "\telse:\n",
        "\t\treturn 0\n",
        "    \n",
        "def PenaltyfastestDescent(x0, eps1, eps2, delta): #eps1 - епсілон для критерію закінчення, eps2 - точність методу одновимірного пошуку\n",
        "    iterations = 0\n",
        "    \n",
        "    STOP = False \n",
        "    STOP_R = False \n",
        "    zeroCount()\n",
        "    \"\"\"\n",
        "        Gradient descent with lambda. calculated with one-dimensional search\n",
        "    \"\"\"\n",
        "    print(\"fastest descent goes!\")\n",
        "    xs = []\n",
        "    xs.append(x0)\n",
        "    x0 = mults(x0, -1)\n",
        "    x1 = [-x0[0], -x0[1]]\n",
        "    lmb = 0.1\n",
        "    while not STOP_R: \n",
        "        while not STOP:\n",
        "            x0 = x1\n",
        "            grad = gradient(x0)\n",
        "            if norm(grad) < eps1: \n",
        "                STOP = True\n",
        "                break\n",
        "            lmb = calcLambda(x0, grad, eps2, lmb, delta)\n",
        "            x1 = calcX(x0, grad, lmb)\n",
        "            print(x1)\n",
        "            xs.append(x1)\n",
        "            iterations += 1\n",
        "        if norm(sub(xs[-1],xs[-2])) < eps1:\n",
        "            STOP_R = True\n",
        "        else:\n",
        "            global R_func\n",
        "            R_func = (R_func * 10)\n",
        "            print(f'R: {R_func}')\n",
        "\n",
        "    print(\"end fastest descent with \", iterations, \" iterations\\nFunction Counts\",count)\n",
        "    plot_penalty(xs, 'y')\n",
        "    return x1\n",
        "\n",
        "def plot_penalty(points, col):    \n",
        "    xs = []\n",
        "    ys = []\n",
        "    \n",
        "    for i in range(len(points)):\n",
        "        xs.append(points[i][0])\n",
        "        ys.append(points[i][1])\n",
        "    \n",
        "    plt.plot(xs, ys, marker='o', linestyle='--', color=str(col), label='Square')\n",
        "\n",
        "def PenaltyfastestDescentRun(x0, eps1, eps2, delta):\n",
        "    PenaltyfastestDescent(x0, eps1, eps2, delta)\n",
        "    circle = plt.Circle((-1, 0), 1, fill = False, color = 'black')\n",
        "    plt.gca().add_patch(circle)\n",
        "    plt.grid()"
      ],
      "execution_count": 16,
      "outputs": []
    },
    {
      "cell_type": "markdown",
      "metadata": {
        "id": "3MRxCJp-4Kri"
      },
      "source": [
        "#### Обчислення"
      ]
    },
    {
      "cell_type": "code",
      "metadata": {
        "id": "iL4wfh0nefE3"
      },
      "source": [
        "def main():\n",
        "    point = [-1.2, 0]\n",
        "    fastestDescent(point, 0.01, 0.01, 0.001, False)\n",
        "    # fastestDescent(point, 0.01, 0.01, 0.001, True)\n",
        "    # PenaltyfastestDescentRun(point, 0.01, 0.01, 0.001)"
      ],
      "execution_count": 17,
      "outputs": []
    },
    {
      "cell_type": "markdown",
      "metadata": {
        "id": "cTy6yz1s4KvE"
      },
      "source": [
        "#### Виведення результатів"
      ]
    },
    {
      "cell_type": "code",
      "metadata": {
        "colab": {
          "base_uri": "https://localhost:8080/",
          "height": 819
        },
        "id": "M3e5FrvqeiWq",
        "outputId": "f69996da-7a47-40b2-d0f6-e15b75893cad"
      },
      "source": [
        "if __name__ == '__main__':\n",
        "    main() \n",
        "    plt.show()"
      ],
      "execution_count": 18,
      "outputs": [
        {
          "output_type": "stream",
          "text": [
            "fastest descent goes!\n",
            "[-0.5090403639148178, -0.5837725624034821]\n",
            "[0.49959725395713694, 0.405991264049845]\n",
            "[-1.9573262995383345, 5.684546634630152]\n",
            "[-0.30531443889610155, 4.094707263366928]\n",
            "[1.8629511281968292, 1.9897244086776311]\n",
            "[1.8893065464857108, 1.9071758569444048]\n",
            "[1.774909223880353, 1.878414905683523]\n",
            "[1.7924416747686254, 1.8086487980164927]\n",
            "[1.6895509917360583, 1.782195223851963]\n",
            "[1.7055423182895015, 1.7196492086271273]\n",
            "[1.6150031268847271, 1.6970197029896001]\n",
            "[1.6269815850922005, 1.6491306117375915]\n",
            "[1.454073599551688, 1.5546705214066379]\n",
            "[1.4835487821779936, 1.5009455580395337]\n",
            "[1.3471730659807484, 1.4243068550974245]\n",
            "[1.3810096847475568, 1.3627768300849423]\n",
            "[1.3467527286496384, 1.3738642374842216]\n",
            "[1.3304402400024142, 1.315382610995897]\n",
            "[1.2941679788601759, 1.3267380798033148]\n",
            "[1.2968033777642864, 1.299510468944118]\n",
            "[1.2667182325880144, 1.2964913363756527]\n",
            "[1.2688922940754046, 1.2756182387673167]\n",
            "[1.231402904427263, 1.2631121369371423]\n",
            "[1.238538555889645, 1.236708470418504]\n",
            "[1.2186050847275365, 1.23812891852726]\n",
            "[1.2158968178827427, 1.2155038525667285]\n",
            "[1.1960748134863268, 1.215857834863184]\n",
            "[1.1962450262501545, 1.1966920784972184]\n",
            "[1.1773940032141121, 1.196252358853666]\n",
            "[1.1783677930259087, 1.1798406763428058]\n",
            "end fastest descent with  30  iterations\n",
            "Function Counts 4457\n"
          ],
          "name": "stdout"
        },
        {
          "output_type": "display_data",
          "data": {
            "image/png": "[encoded data removed]",
            "text/plain": [
              "<Figure size 432x288 with 1 Axes>"
            ]
          },
          "metadata": {
            "tags": [],
            "needs_background": "light"
          }
        }
      ]
    },
    {
      "cell_type": "markdown",
      "metadata": {
        "id": "znth76EQ9TBO"
      },
      "source": [
        "####**Перше завдання**\n",
        "\n",
        "Тепер занотуємо, за скільки ітерацій буде досягнута точка при тих чи інших змінах:\n",
        "\n",
        "*Примітка:* із кожного пункту при подальшому тестуванні будемо залишати перший підпункт і йти до наступного (перші підпункти вважатимуться дефолтними).\n",
        "\n",
        "Результати після зміни:\n",
        "1. Величини кроку h при обчисленні похідних:\n",
        " *  h = 0.000000000001: 30 ітерацій, Function Counts 4457 **[1.1783677930259087, 1.1798406763428058]**\n",
        " *  h = 0.00000000001:  6 ітерацій, Function Counts 4027 **[1.8355161619125115, 2.016811893181921]**\n",
        "2. Схеми обчислення похідних:\n",
        " * центральна: 30 ітерацій, Function Counts 4457 **[1.1783677930259087, 1.1798406763428058]**\n",
        " * права: 6 ітерацій, Function Counts 4028 **[1.7531138413892153, 2.0877576852722814]**\n",
        " * ліва: 6 ітерацій, Function Counts 4028 **[1.8465632129037686, 2.0145955111566614]**\n",
        "3. Способу обчислення кроку:\n",
        " * оптимальний: 30 ітерацій, Function Counts 4457 **[1.1783677930259087, 1.1798406763428058]**\n",
        " * постійний: 6 ітерацій, Function Counts 4027 **[1.8465632129037686, 2.0145955111566614]**\n",
        "4. Виду методу одновимірного пошуку:\n",
        " * ДСК-Пауелла: 30 ітерацій, Counts 4457 **[1.1783677930259087, 1.1798406763428058]**\n",
        " * Золотого перетину: 14 ітерацій, Function Counts 401 **[0.9643572576317091, 0.9605273158709049]**\n",
        "5. Точності методу одновимірного пошуку:\n",
        " * 0.01: 30 ітерацій, Function Counts 4457 **[1.1783677930259087, 1.1798406763428058]**\n",
        " * 0.001: 143 ітерацій, Function Counts 417787 **[0.9502566030741537, 0.9459774475667163]**\n",
        "6. Значення параметру в алгоритмі Свена (*delta*):\n",
        " * 0.001: 30 ітерацій **[1.1783677930259087, 1.1798406763428058]**\n",
        " * 0.01: 90 ітерацій, Function Counts 113506 **[0.8645733379812286, 0.8556546751409558]**\n",
        "\n",
        "7. Вигляду критерію закінчення:\n",
        " * sm: 30 ітерацій 30 ітерацій, Counts 4457 **[1.1783677930259087, 1.1798406763428058]**\n",
        " * big: 32 ітерацій, Function Counts 4616 **[0.9643572576317091, 0.9605273158709049]**\n",
        "\n",
        "8. Модифікація у вигляді важкої кульки: 244 ітерацій, Function Counts 683343\n",
        "\n",
        "\n",
        "  **[1.0841644889981867, 1.1036644959996114]**\n",
        "\n",
        "####**Друге завдання**\n",
        "Результат роботи програми: [0.06389856189085187, 0.0694413218538425]\n",
        "\n",
        "13  ітерацій\n",
        "\n",
        "Function Counts 316\n",
        "\n",
        "Мінімум знаходиться в т. (1;1), але метод не може в неї потрапити, так як вона знаходиться поза областю. Метод намагається підійти якомога ближче до точки, але й бути якомога ближче до області. \n",
        "\n"
      ]
    },
    {
      "cell_type": "markdown",
      "metadata": {
        "id": "2U_tawvh4Kyu"
      },
      "source": [
        "# Висновки"
      ]
    },
    {
      "cell_type": "markdown",
      "metadata": {
        "id": "sryjrwNK7eWP"
      },
      "source": [
        "У даній роботі було розглянуто та опрацьовано метод градієнтного спуску, він же метод найшвидшого спуску та прослідковано його залежність від заданих параметрів та методів одномірного пошуку. Найкращий результат дали метод золотого перетину та критерій закінчення у вигляді системи (точка [0.9643572576317091, 0.9605273158709049]), найгірший - зменшення кроку h та лівоорієнтована схема обчислення похідної.\n",
        "\n",
        "Метод штрафних функцій виконався трохи суперечливо, але логічно. Далеко від області він не може відійти, а точка знаходися у лівому верхньому куті, що ускладнює нормальний шлях до неї. Скоріше за все, справа в придуманій області.\n",
        "\n",
        "Одне із найголовніших достоїнств методу найшвидшого спуску - це те, що данний метод першими кроками максимально швидко наближається до необхідної точки. Із недоліків - відносно дуже повільне просування в околі шуканої точки. Дану проблему можна вирішити компоновкою декількох методів, першу ітерацію якої буде робити якраз МНС.\n",
        "\n",
        "Що ж до модифікації у вигляді методу важкої кульки, він спрацював непогано, але є досить ресурсно невигідним, так як більшу точність можна досягнути і меншою кількістю ітерацій."
      ]
    },
    {
      "cell_type": "markdown",
      "metadata": {
        "id": "BpavJnUp5bdG"
      },
      "source": [
        "# Автори"
      ]
    },
    {
      "cell_type": "markdown",
      "metadata": {
        "id": "wDnqXeZr_LYl"
      },
      "source": [
        "[Бурлаченко Яна Борисівна](https://github.com/yana5k/Optimization-Methods)\n",
        "\n",
        "[Alex Honchar](https://github.com/Rachnog/Optimization-Algorithms)"
      ]
    },
    {
      "cell_type": "markdown",
      "metadata": {
        "id": "nCnb-Fok5blY"
      },
      "source": [
        "# Список використаних джерел"
      ]
    },
    {
      "cell_type": "markdown",
      "metadata": {
        "id": "DWkToHi3BLa4"
      },
      "source": [
        "1. Методичні матеріали за вказаними методами, надані лектором Ладогубець Т.С.\n",
        "2. Ю. А. Ведерникова \"Математические основы теории оптимизации\"\n",
        "3. [Градієнтний спуск](https://uk.wikipedia.org/wiki/%D0%93%D1%80%D0%B0%D0%B4%D1%96%D1%94%D0%BD%D1%82%D0%BD%D0%B8%D0%B9_%D1%81%D0%BF%D1%83%D1%81%D0%BA)\n",
        "4. [Метод штрафов](https://ru.wikipedia.org/wiki/%D0%9C%D0%B5%D1%82%D0%BE%D0%B4_%D1%88%D1%82%D1%80%D0%B0%D1%84%D0%BE%D0%B2#:~:text=%D0%9C%D0%B5%D1%82%D0%BE%D0%B4%D1%8B%20%D1%88%D1%82%D1%80%D0%B0%D1%84%D0%BE%D0%B2%20(%D0%BC%D0%B5%D1%82%D0%BE%D0%B4%D1%8B%20%D1%88%D1%82%D1%80%D0%B0%D1%84%D0%BD%D1%8B%D1%85%20%D1%84%D1%83%D0%BD%D0%BA%D1%86%D0%B8%D0%B9,%D1%88%D1%82%D1%80%D0%B0%D1%84%D0%B0%20%D0%B8%D0%BD%D0%BE%D0%B3%D0%B4%D0%B0%20%D1%81%D0%B2%D0%BE%D0%B4%D1%8F%D1%82%20%D0%BA%20%D0%BE%D0%B4%D0%BD%D0%BE%D0%BA%D1%80%D0%B8%D1%82%D0%B5%D1%80%D0%B8%D0%B0%D0%BB%D1%8C%D0%BD%D1%8B%D0%BC.)\n",
        "5. [Gradient-Based Optimization](http://adl.stanford.edu/aa222/Lecture_Notes_files/AA222-Lecture3.pdf)"
      ]
    },
    {
      "cell_type": "code",
      "metadata": {
        "id": "9N-RdVXlDSu5"
      },
      "source": [
        ""
      ],
      "execution_count": null,
      "outputs": []
    }
  ]
}